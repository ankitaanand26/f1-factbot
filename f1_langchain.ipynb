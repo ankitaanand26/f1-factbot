{
 "cells": [
  {
   "cell_type": "markdown",
   "metadata": {},
   "source": [
    "Loading the database"
   ]
  },
  {
   "cell_type": "code",
   "execution_count": 7,
   "metadata": {},
   "outputs": [
    {
     "name": "stdout",
     "output_type": "stream",
     "text": [
      "sqlite\n",
      "['circuits', 'constructor_results', 'constructor_standings', 'constructors', 'driver_standings', 'drivers', 'lap_times', 'pit_stops', 'qualifying', 'races', 'results', 'seasons', 'sprint_results', 'status']\n",
      "\n",
      "CREATE TABLE circuits (\n",
      "\t\"circuitId\" BIGINT, \n",
      "\t\"circuitRef\" TEXT, \n",
      "\tname TEXT, \n",
      "\tlocation TEXT, \n",
      "\tcountry TEXT, \n",
      "\tlat FLOAT, \n",
      "\tlng FLOAT, \n",
      "\talt BIGINT, \n",
      "\turl TEXT\n",
      ")\n",
      "\n",
      "/*\n",
      "3 rows from circuits table:\n",
      "circuitId\tcircuitRef\tname\tlocation\tcountry\tlat\tlng\talt\turl\n",
      "1\talbert_park\tAlbert Park Grand Prix Circuit\tMelbourne\tAustralia\t-37.8497\t144.968\t10\thttp://en.wikipedia.org/wiki/Melbourne_Grand_Prix_Circuit\n",
      "2\tsepang\tSepang International Circuit\tKuala Lumpur\tMalaysia\t2.76083\t101.738\t18\thttp://en.wikipedia.org/wiki/Sepang_International_Circuit\n",
      "3\tbahrain\tBahrain International Circuit\tSakhir\tBahrain\t26.0325\t50.5106\t7\thttp://en.wikipedia.org/wiki/Bahrain_International_Circuit\n",
      "*/\n",
      "\n",
      "\n",
      "CREATE TABLE constructor_results (\n",
      "\t\"constructorResultsId\" BIGINT, \n",
      "\t\"raceId\" BIGINT, \n",
      "\t\"constructorId\" BIGINT, \n",
      "\tpoints FLOAT, \n",
      "\tstatus TEXT\n",
      ")\n",
      "\n",
      "/*\n",
      "3 rows from constructor_results table:\n",
      "constructorResultsId\traceId\tconstructorId\tpoints\tstatus\n",
      "1\t18\t1\t14.0\t\\N\n",
      "2\t18\t2\t8.0\t\\N\n",
      "3\t18\t3\t9.0\t\\N\n",
      "*/\n",
      "\n",
      "\n",
      "CREATE TABLE constructor_standings (\n",
      "\t\"constructorStandingsId\" BIGINT, \n",
      "\t\"raceId\" BIGINT, \n",
      "\t\"constructorId\" BIGINT, \n",
      "\tpoints FLOAT, \n",
      "\tposition BIGINT, \n",
      "\t\"positionText\" TEXT, \n",
      "\twins BIGINT\n",
      ")\n",
      "\n",
      "/*\n",
      "3 rows from constructor_standings table:\n",
      "constructorStandingsId\traceId\tconstructorId\tpoints\tposition\tpositionText\twins\n",
      "1\t18\t1\t14.0\t1\t1\t1\n",
      "2\t18\t2\t8.0\t3\t3\t0\n",
      "3\t18\t3\t9.0\t2\t2\t0\n",
      "*/\n",
      "\n",
      "\n",
      "CREATE TABLE constructors (\n",
      "\t\"constructorId\" BIGINT, \n",
      "\t\"constructorRef\" TEXT, \n",
      "\tname TEXT, \n",
      "\tnationality TEXT, \n",
      "\turl TEXT\n",
      ")\n",
      "\n",
      "/*\n",
      "3 rows from constructors table:\n",
      "constructorId\tconstructorRef\tname\tnationality\turl\n",
      "1\tmclaren\tMcLaren\tBritish\thttp://en.wikipedia.org/wiki/McLaren\n",
      "2\tbmw_sauber\tBMW Sauber\tGerman\thttp://en.wikipedia.org/wiki/BMW_Sauber\n",
      "3\twilliams\tWilliams\tBritish\thttp://en.wikipedia.org/wiki/Williams_Grand_Prix_Engineering\n",
      "*/\n",
      "\n",
      "\n",
      "CREATE TABLE driver_standings (\n",
      "\t\"driverStandingsId\" BIGINT, \n",
      "\t\"raceId\" BIGINT, \n",
      "\t\"driverId\" BIGINT, \n",
      "\tpoints FLOAT, \n",
      "\tposition BIGINT, \n",
      "\t\"positionText\" TEXT, \n",
      "\twins BIGINT\n",
      ")\n",
      "\n",
      "/*\n",
      "3 rows from driver_standings table:\n",
      "driverStandingsId\traceId\tdriverId\tpoints\tposition\tpositionText\twins\n",
      "1\t18\t1\t10.0\t1\t1\t1\n",
      "2\t18\t2\t8.0\t2\t2\t0\n",
      "3\t18\t3\t6.0\t3\t3\t0\n",
      "*/\n",
      "\n",
      "\n",
      "CREATE TABLE drivers (\n",
      "\t\"driverId\" BIGINT, \n",
      "\t\"driverRef\" TEXT, \n",
      "\tnumber TEXT, \n",
      "\tcode TEXT, \n",
      "\tforename TEXT, \n",
      "\tsurname TEXT, \n",
      "\tdob TEXT, \n",
      "\tnationality TEXT, \n",
      "\turl TEXT\n",
      ")\n",
      "\n",
      "/*\n",
      "3 rows from drivers table:\n",
      "driverId\tdriverRef\tnumber\tcode\tforename\tsurname\tdob\tnationality\turl\n",
      "2\theidfeld\t\\N\tHEI\tNick\tHeidfeld\t1977-05-10\tGerman\thttp://en.wikipedia.org/wiki/Nick_Heidfeld\n",
      "3\trosberg\t6\tROS\tNico\tRosberg\t1985-06-27\tGerman\thttp://en.wikipedia.org/wiki/Nico_Rosberg\n",
      "4\talonso\t14\tALO\tFernando\tAlonso\t1981-07-29\tSpanish\thttp://en.wikipedia.org/wiki/Fernando_Alonso\n",
      "*/\n",
      "\n",
      "\n",
      "CREATE TABLE lap_times (\n",
      "\t\"raceId\" BIGINT, \n",
      "\t\"driverId\" BIGINT, \n",
      "\tlap BIGINT, \n",
      "\tposition BIGINT, \n",
      "\ttime TEXT, \n",
      "\tmilliseconds BIGINT\n",
      ")\n",
      "\n",
      "/*\n",
      "3 rows from lap_times table:\n",
      "raceId\tdriverId\tlap\tposition\ttime\tmilliseconds\n",
      "841\t20\t1\t1\t1:38.109\t98109\n",
      "841\t20\t2\t1\t1:33.006\t93006\n",
      "841\t20\t3\t1\t1:32.713\t92713\n",
      "*/\n",
      "\n",
      "\n",
      "CREATE TABLE pit_stops (\n",
      "\t\"raceId\" BIGINT, \n",
      "\t\"driverId\" BIGINT, \n",
      "\tstop BIGINT, \n",
      "\tlap BIGINT, \n",
      "\ttime TEXT, \n",
      "\tduration TEXT, \n",
      "\tmilliseconds BIGINT\n",
      ")\n",
      "\n",
      "/*\n",
      "3 rows from pit_stops table:\n",
      "raceId\tdriverId\tstop\tlap\ttime\tduration\tmilliseconds\n",
      "841\t153\t1\t1\t17:05:23\t26.898\t26898\n",
      "841\t30\t1\t1\t17:05:52\t25.021\t25021\n",
      "841\t17\t1\t11\t17:20:48\t23.426\t23426\n",
      "*/\n",
      "\n",
      "\n",
      "CREATE TABLE qualifying (\n",
      "\t\"qualifyId\" BIGINT, \n",
      "\t\"raceId\" BIGINT, \n",
      "\t\"driverId\" BIGINT, \n",
      "\t\"constructorId\" BIGINT, \n",
      "\tnumber BIGINT, \n",
      "\tposition BIGINT, \n",
      "\tq1 TEXT, \n",
      "\tq2 TEXT, \n",
      "\tq3 TEXT\n",
      ")\n",
      "\n",
      "/*\n",
      "3 rows from qualifying table:\n",
      "qualifyId\traceId\tdriverId\tconstructorId\tnumber\tposition\tq1\tq2\tq3\n",
      "1\t18\t1\t1\t22\t1\t1:26.572\t1:25.187\t1:26.714\n",
      "2\t18\t9\t2\t4\t2\t1:26.103\t1:25.315\t1:26.869\n",
      "3\t18\t5\t1\t23\t3\t1:25.664\t1:25.452\t1:27.079\n",
      "*/\n",
      "\n",
      "\n",
      "CREATE TABLE races (\n",
      "\t\"raceId\" BIGINT, \n",
      "\tyear BIGINT, \n",
      "\tround BIGINT, \n",
      "\t\"circuitId\" BIGINT, \n",
      "\tname TEXT, \n",
      "\tdate TEXT, \n",
      "\ttime TEXT, \n",
      "\turl TEXT, \n",
      "\tfp1_date TEXT, \n",
      "\tfp1_time TEXT, \n",
      "\tfp2_date TEXT, \n",
      "\tfp2_time TEXT, \n",
      "\tfp3_date TEXT, \n",
      "\tfp3_time TEXT, \n",
      "\tquali_date TEXT, \n",
      "\tquali_time TEXT, \n",
      "\tsprint_date TEXT, \n",
      "\tsprint_time TEXT\n",
      ")\n",
      "\n",
      "/*\n",
      "3 rows from races table:\n",
      "raceId\tyear\tround\tcircuitId\tname\tdate\ttime\turl\tfp1_date\tfp1_time\tfp2_date\tfp2_time\tfp3_date\tfp3_time\tquali_date\tquali_time\tsprint_date\tsprint_time\n",
      "1\t2009\t1\t1\tAustralian Grand Prix\t2009-03-29\t06:00:00\thttp://en.wikipedia.org/wiki/2009_Australian_Grand_Prix\t\\N\t\\N\t\\N\t\\N\t\\N\t\\N\t\\N\t\\N\t\\N\t\\N\n",
      "2\t2009\t2\t2\tMalaysian Grand Prix\t2009-04-05\t09:00:00\thttp://en.wikipedia.org/wiki/2009_Malaysian_Grand_Prix\t\\N\t\\N\t\\N\t\\N\t\\N\t\\N\t\\N\t\\N\t\\N\t\\N\n",
      "3\t2009\t3\t17\tChinese Grand Prix\t2009-04-19\t07:00:00\thttp://en.wikipedia.org/wiki/2009_Chinese_Grand_Prix\t\\N\t\\N\t\\N\t\\N\t\\N\t\\N\t\\N\t\\N\t\\N\t\\N\n",
      "*/\n",
      "\n",
      "\n",
      "CREATE TABLE results (\n",
      "\t\"resultId\" BIGINT, \n",
      "\t\"raceId\" BIGINT, \n",
      "\t\"driverId\" BIGINT, \n",
      "\t\"constructorId\" BIGINT, \n",
      "\tnumber TEXT, \n",
      "\tgrid BIGINT, \n",
      "\tposition TEXT, \n",
      "\t\"positionText\" TEXT, \n",
      "\t\"positionOrder\" BIGINT, \n",
      "\tpoints FLOAT, \n",
      "\tlaps BIGINT, \n",
      "\ttime TEXT, \n",
      "\tmilliseconds TEXT, \n",
      "\t\"fastestLap\" TEXT, \n",
      "\trank TEXT, \n",
      "\t\"fastestLapTime\" TEXT, \n",
      "\t\"fastestLapSpeed\" TEXT, \n",
      "\t\"statusId\" BIGINT\n",
      ")\n",
      "\n",
      "/*\n",
      "3 rows from results table:\n",
      "resultId\traceId\tdriverId\tconstructorId\tnumber\tgrid\tposition\tpositionText\tpositionOrder\tpoints\tlaps\ttime\tmilliseconds\tfastestLap\trank\tfastestLapTime\tfastestLapSpeed\tstatusId\n",
      "1\t18\t1\t1\t22\t1\t1\t1\t1\t10.0\t58\t1:34:50.616\t5690616\t39\t2\t1:27.452\t218.300\t1\n",
      "2\t18\t2\t2\t3\t5\t2\t2\t2\t8.0\t58\t+5.478\t5696094\t41\t3\t1:27.739\t217.586\t1\n",
      "3\t18\t3\t3\t7\t7\t3\t3\t3\t6.0\t58\t+8.163\t5698779\t41\t5\t1:28.090\t216.719\t1\n",
      "*/\n",
      "\n",
      "\n",
      "CREATE TABLE seasons (\n",
      "\tyear BIGINT, \n",
      "\turl TEXT\n",
      ")\n",
      "\n",
      "/*\n",
      "3 rows from seasons table:\n",
      "year\turl\n",
      "2009\thttp://en.wikipedia.org/wiki/2009_Formula_One_season\n",
      "2008\thttp://en.wikipedia.org/wiki/2008_Formula_One_season\n",
      "2007\thttp://en.wikipedia.org/wiki/2007_Formula_One_season\n",
      "*/\n",
      "\n",
      "\n",
      "CREATE TABLE sprint_results (\n",
      "\t\"resultId\" BIGINT, \n",
      "\t\"raceId\" BIGINT, \n",
      "\t\"driverId\" BIGINT, \n",
      "\t\"constructorId\" BIGINT, \n",
      "\tnumber BIGINT, \n",
      "\tgrid BIGINT, \n",
      "\tposition TEXT, \n",
      "\t\"positionText\" TEXT, \n",
      "\t\"positionOrder\" BIGINT, \n",
      "\tpoints BIGINT, \n",
      "\tlaps BIGINT, \n",
      "\ttime TEXT, \n",
      "\tmilliseconds TEXT, \n",
      "\t\"fastestLap\" TEXT, \n",
      "\t\"fastestLapTime\" TEXT, \n",
      "\t\"statusId\" BIGINT\n",
      ")\n",
      "\n",
      "/*\n",
      "3 rows from sprint_results table:\n",
      "resultId\traceId\tdriverId\tconstructorId\tnumber\tgrid\tposition\tpositionText\tpositionOrder\tpoints\tlaps\ttime\tmilliseconds\tfastestLap\tfastestLapTime\tstatusId\n",
      "1\t1061\t830\t9\t33\t2\t1\t1\t1\t3\t17\t25:38.426\t1538426\t14\t1:30.013\t1\n",
      "2\t1061\t1\t131\t44\t1\t2\t2\t2\t2\t17\t+1.430\t1539856\t17\t1:29.937\t1\n",
      "3\t1061\t822\t131\t77\t3\t3\t3\t3\t1\t17\t+7.502\t1545928\t17\t1:29.958\t1\n",
      "*/\n",
      "\n",
      "\n",
      "CREATE TABLE status (\n",
      "\t\"statusId\" BIGINT, \n",
      "\tstatus TEXT\n",
      ")\n",
      "\n",
      "/*\n",
      "3 rows from status table:\n",
      "statusId\tstatus\n",
      "1\tFinished\n",
      "2\tDisqualified\n",
      "3\tAccident\n",
      "*/\n"
     ]
    }
   ],
   "source": [
    "from langchain_community.utilities.sql_database import SQLDatabase\n",
    "\n",
    "db = SQLDatabase.from_uri(\"sqlite:///database.sqlite\")\n",
    "print(db.dialect)\n",
    "print(db.get_usable_table_names())\n",
    "print(db.table_info)"
   ]
  },
  {
   "cell_type": "markdown",
   "metadata": {},
   "source": [
    "First query"
   ]
  },
  {
   "cell_type": "code",
   "execution_count": 8,
   "metadata": {},
   "outputs": [],
   "source": [
    "from langchain_google_genai import ChatGoogleGenerativeAI\n",
    "\n",
    "llm = ChatGoogleGenerativeAI(model=\"gemini-pro\")"
   ]
  },
  {
   "cell_type": "code",
   "execution_count": 5,
   "metadata": {},
   "outputs": [],
   "source": [
    "from langchain_core.output_parsers import StrOutputParser\n",
    "from langchain_core.prompts import PromptTemplate\n",
    "\n",
    "query_prompt = PromptTemplate.from_template(\n",
    "    \"\"\"Your are an SQLite expert.\n",
    "Given a question from the user, you need to create syntactically correct queries.\n",
    "The database contains tables with interconnected information and statistics about Formula 1 races, teams, and drivers. \n",
    "Below, each table is described briefly with the columns and a short description of each column.\n",
    "\n",
    "Table Descriptions:\n",
    "- circuits - Circuits are tracks on which Formula 1 races take place. Columns: circuitID, circuitRef(reference name for the circuit), name, location (city in which the circuit is located), country, lat (latitude), long (longitude), alt (altitude) and url (Wikipedia link for the circuit).\n",
    "- constructor_results - Constructor is another name to refer to teams competing in Formula 1. Columns: constructorResultsID, raceID, constructorID, points and status.\n",
    "- constructor_standings - This table gives information about where in the points table each constructor was placed after every race. Columns: constructorStandingsID, raceID, constructorID, points, position (position of the constructor after that particular race in the standings), positionText, wins.\n",
    "- constructors - Columns: constructorID, constructorRef (reference name for each constructor), name, nationality and url (Wikipedia link for the constructor) \n",
    "- driver_standings - This table gives information about where in the points table each driver was placed after every race. Columns: driverStandingsID, raceID, driverID, points, position, positionText and wins. \n",
    "- drivers - This table gives details of every driver who has raced in Formula 1. Columns: driverID, driverRef(reference name for a driver), number (car number), code (3 letter code for each driver), forename, surname, dob (date of birth), nationality, url (Wikipedia page of the driver for more information).\n",
    "- lap_times - This table gives information about the time taken to complete a particular lap in a particular race by a particular driver. Columns: raceID, driverID, lap (lap number in the race), position (position of the driver in the race), time (time taken for the lap), milliseconds (time in milliseconds)\n",
    "- pit_stops - A driver stops during the race in the pitlane to make minor changes to the car. This table gives information about pitstops made during a particular race. Columns: raceID, driverID, stop (pit stop number in the race by that driver), lap (lap in which stop was made), time (time of the day at which stop was made), duration (time taken during the stop), milliseconds (duration in milliseconds)\n",
    "- qualifying - This table contains information about qualification that happens before a race. Columns: qualifyID, raceID, driverID, constructorID, number (car number), position , q1 (lap time in qualification round 1 also referred to as Q1), q2 (lap time in q2), q3 (lap time in q3)\n",
    "- races - This table contains information about each race held each season. Columns: raceID, year (year in which the race took place), round (nth race of the year, n being a number), circuitID, name, date, time (time of race start), fp1_date (fp stands for free practice), fp1_time, fp2_date, fp2_time, quali_date, quali_time, sprint_date (date of sprint race), sprint_time\n",
    "- results - This table contains results of each race for each driver. Columns: resultID, raceID, driverID, constructorID, number (car number), grid (position at the start of the race), position (at the end of the race), positionText, positionOrder (final rank), points, laps (number of laps completed), time (time taken to finish the race. if this begins with + then the value is race leader's time + value given), milliseconds (total time taken in milliseconds), fastestLap (lap number of fastest lap), rank (rank of fastest lap), fastestLapTime, fastestLapSpeed (top speed of fastest lap), statusID (status of driver, check this if other fields are \\\\N in this table)\n",
    "- seasons - This table contains the year and a url link of the Wikipedia page corresponding to that season for more information\n",
    "- sprint_results - This table contains information about results of sprint races during the race week. Columns: resultID, raceID, driverID, constructorID, number (car number), grid (position at the start of the race), position (at the end of the race), positionText, positionOrder (final rank), points, laps (number of laps completed), time (time taken to finish the race. if this begins with + then the value is race leader's time + value given), milliseconds (total time taken in milliseconds), fastestLap (lap number of fastest lap), fastestLapTime, statusID (status of driver, check this if other fields are \\\\N in this table)\n",
    "- status - This table contains the mapping for a description for each statusID. It describes the status of a driver for a particular race. Columns: statusID, status\n",
    "\n",
    "Interconnections:\n",
    "Columns like driverID, constructorID, circuitID, raceID, and statusID are used to interconnect the tables.\n",
    "\n",
    "Instructions:\n",
    "- Pay attention to use date('now') function to get the current date when required\n",
    "- The query should be PLAIN SQL WITHOUT MARKDOWN\n",
    "- Ensure SQL queries are concise and efficient, select unique whenever required\n",
    "- Ensure you query for only existing columns\n",
    "- Properly handle joins between tables to ensure accurate data retrieval.\n",
    "- The driver that get position 1 in the race is the winner and so on.\n",
    "- A driver/constructor wins the championship if they have the most points in the standings at the end of the year\n",
    "- 'Pole' refers to fastest time in qualification. For fastest quali time always start with q3, if not present then q2 and lastly q1\n",
    "- If unable to answer, respond politely\n",
    "\n",
    "\n",
    "Question: {question}\n",
    "SQL Query:\n",
    "\"\"\"\n",
    ")\n",
    "\n",
    "\n"
   ]
  },
  {
   "cell_type": "code",
   "execution_count": 22,
   "metadata": {},
   "outputs": [
    {
     "data": {
      "text/plain": [
       "\"SELECT\\n  d.forename || ' ' || d.surname AS driver_name\\nFROM Drivers AS d\\nJOIN Driver_Standings AS ds\\n  ON d.driverID = ds.driverID\\nJOIN Races AS r\\n  ON ds.raceID = r.raceID\\nWHERE\\n  r.year = 2021\\nORDER BY\\n  ds.points DESC\\nLIMIT 1;\""
      ]
     },
     "execution_count": 22,
     "metadata": {},
     "output_type": "execute_result"
    }
   ],
   "source": [
    "generate_query = query_prompt | llm | StrOutputParser()\n",
    "\n",
    "query = (generate_query.invoke({\"question\": \"Which driver won the championship in 2021?\"})).strip(\"```sql\\n\")\n",
    "query\n"
   ]
  },
  {
   "cell_type": "markdown",
   "metadata": {},
   "source": [
    "Executing generated SQL query against database"
   ]
  },
  {
   "cell_type": "code",
   "execution_count": 23,
   "metadata": {},
   "outputs": [
    {
     "data": {
      "text/plain": [
       "\"[('Max Verstappen',)]\""
      ]
     },
     "execution_count": 23,
     "metadata": {},
     "output_type": "execute_result"
    }
   ],
   "source": [
    "from langchain_community.tools.sql_database.tool import QuerySQLDataBaseTool\n",
    "execute_query = QuerySQLDataBaseTool(db=db)\n",
    "execute_query.invoke(query)"
   ]
  },
  {
   "cell_type": "markdown",
   "metadata": {},
   "source": [
    "Rephrasing answers - using prompt templates"
   ]
  },
  {
   "cell_type": "code",
   "execution_count": 25,
   "metadata": {},
   "outputs": [
    {
     "data": {
      "text/plain": [
       "'Lewis Hamilton'"
      ]
     },
     "execution_count": 25,
     "metadata": {},
     "output_type": "execute_result"
    }
   ],
   "source": [
    "from langchain_core.output_parsers import StrOutputParser\n",
    "from langchain_core.prompts import PromptTemplate\n",
    "from langchain_core.runnables import RunnablePassthrough\n",
    "\n",
    "\n",
    "answer_prompt = PromptTemplate.from_template(\n",
    "    \"\"\"Given the following user question, corresponding SQL query, and SQL result, answer the user question.\n",
    "\n",
    "Question: {question}\n",
    "SQL Query: {query}\n",
    "SQL Result: {result}\n",
    "Answer: \"\"\"\n",
    ")\n",
    "\n",
    "rephrase_answer = answer_prompt | llm | StrOutputParser()\n",
    "\n",
    "chain = (\n",
    "    RunnablePassthrough.assign(query=generate_query).assign(\n",
    "        result=lambda d: execute_query(d[\"query\"].strip(\"```sql\\n\"))\n",
    "    )\n",
    "    | rephrase_answer\n",
    ")\n",
    "\n",
    "chain.invoke({\"question\": \"Who won the 2020 drivers championship?\"})"
   ]
  },
  {
   "cell_type": "markdown",
   "metadata": {},
   "source": [
    "Few Shot examples"
   ]
  },
  {
   "cell_type": "code",
   "execution_count": 6,
   "metadata": {},
   "outputs": [],
   "source": [
    "examples = [\n",
    "    {\n",
    "        \"input\": \"How many times has Lewis won the championship?\",\n",
    "        \"query\": \"SELECT COUNT(*) AS championship_wins FROM (SELECT ds.driverID, r.year FROM driver_standings ds JOIN races r ON ds.raceID = r.raceID JOIN drivers d ON ds.driverID = d.driverID WHERE d.forename = 'Lewis' AND d.surname = 'Hamilton' AND ds.position = 1 AND r.round = (SELECT MAX(ra.round) FROM races ra WHERE ra.year = r.year) GROUP BY r.year) AS final_standings;\"\n",
    "    },\n",
    "    {\n",
    "        \"input\": \"What was the position of Mercedes in the 2020 British Grand Prix?\",\n",
    "        \"query\": \"SELECT cs.position FROM constructor_standings cs JOIN constructors c ON cs.constructorID = c.constructorID JOIN races r ON cs.raceID = r.raceID WHERE r.year = 2020 AND r.name = 'British Grand Prix' AND c.name = 'Mercedes';\"\n",
    "    },\n",
    "    {\n",
    "        \"input\": \"Which constructor had the most wins in the 2020 season?\",\n",
    "        \"query\": \"SELECT c.name, COUNT(*) as wins FROM constructor_standings cs JOIN constructors c ON cs.constructorID = c.constructorID JOIN races r ON cs.raceID = r.raceID WHERE r.year = 2020 AND cs.position = 1 GROUP BY c.name ORDER BY wins DESC LIMIT 1;\"\n",
    "    },\n",
    "    {\n",
    "        \"input\": \"Which teams did Lewis Hamilton race for?\",\n",
    "        \"query\": \"SELECT DISTINCT c.name FROM results r JOIN drivers d ON r.driverID = d.driverID JOIN constructors c ON r.constructorID = c.constructorID WHERE d.forename = 'Lewis' AND d.surname = 'Hamilton';\"\n",
    "    },\n",
    "    {\n",
    "        \"input\": \"Which drivers have got pole positions for Ferrari?\",\n",
    "        \"query\": \"SELECT DISTINCT d.forename, d.surname FROM qualifying q JOIN constructors c ON q.constructorID = c.constructorID JOIN drivers d ON q.driverID = d.driverID WHERE c.name = 'Ferrari' AND q.position = 1;\"\n",
    "    },\n",
    "    {\n",
    "        \"input\": \"Which drivers qualified on pole and finished first in the race in 2008?\",\n",
    "        \"query\": \"SELECT DISTINCT d.forename, d.surname FROM qualifying q JOIN results r ON q.raceID = r.raceID AND q.driverID = r.driverID JOIN drivers d ON q.driverID = d.driverID WHERE q.position = 1 AND r.positionOrder = 1 AND q.raceID IN ( SELECT raceID FROM races WHERE year = 2008);\"\n",
    "    },\n",
    "    {\n",
    "        \"input\": \"Which driver took the maximum number of races to get their first win?\",\n",
    "        \"query\": \"WITH FirstWin AS (SELECT driverID, MIN(raceID) AS first_win_raceID FROM results WHERE positionOrder = 1 GROUP BY driverID), RacesBeforeFirstWin AS ( SELECT d.driverID, d.forename, d.surname, COUNT(DISTINCT r.raceID) - 1 AS races_before_win FROM results r JOIN drivers d ON r.driverID = d.driverID JOIN FirstWin fw ON r.driverID = fw.driverID AND r.raceID < fw.first_win_raceID GROUP BY d.driverID, d.forename, d.surname) SELECT forename, surname, races_before_win FROM RacesBeforeFirstWin ORDER BY races_before_win DESC LIMIT 1;\" \n",
    "    }\n",
    "]\n"
   ]
  },
  {
   "cell_type": "code",
   "execution_count": 9,
   "metadata": {},
   "outputs": [],
   "source": [
    "from langchain_core.prompts import ChatPromptTemplate, FewShotChatMessagePromptTemplate\n",
    "from langchain_community.tools.sql_database.tool import QuerySQLDataBaseTool\n",
    "from langchain_core.prompts import PromptTemplate\n",
    "from langchain_core.runnables import RunnablePassthrough\n",
    "from langchain_core.output_parsers import StrOutputParser"
   ]
  },
  {
   "cell_type": "code",
   "execution_count": 45,
   "metadata": {},
   "outputs": [],
   "source": [
    "final_query_prompt=PromptTemplate.from_template(\"\"\"Your are an SQLite expert.\n",
    "Given a question from the user, you need to create syntactically correct queries.\n",
    "The database contains tables with interconnected information and statistics about Formula 1 races, teams, and drivers. \n",
    "Below, each table is described briefly with the columns and a short description of each column.\n",
    "\n",
    "Table Descriptions:\n",
    "- circuits - Circuits are tracks on which Formula 1 races take place. Columns: circuitID, circuitRef(reference name for the circuit), name, location (city in which the circuit is located), country, lat (latitude), long (longitude), alt (altitude) and url (Wikipedia link for the circuit).\n",
    "- constructor_results - Constructor is another name to refer to teams competing in Formula 1. Columns: constructorResultsID, raceID, constructorID, points and status.\n",
    "- constructor_standings - This table gives information about where in the points table each constructor was placed after every race. Columns: constructorStandingsID, raceID, constructorID, points, position (position of the constructor after that particular race in the standings), positionText, wins.\n",
    "- constructors - Columns: constructorID, constructorRef (reference name for each constructor), name, nationality and url (Wikipedia link for the constructor) \n",
    "- driver_standings - This table gives information about where in the points table each driver was placed after every race. Columns: driverStandingsID, raceID, driverID, points, position, positionText and wins. \n",
    "- drivers - This table gives details of every driver who has raced in Formula 1. Columns: driverID, driverRef(reference name for a driver), number (car number), code (3 letter code for each driver), forename, surname, dob (date of birth), nationality, url (Wikipedia page of the driver for more information).\n",
    "- lap_times - This table gives information about the time taken to complete a particular lap in a particular race by a particular driver. Columns: raceID, driverID, lap (lap number in the race), position (position of the driver in the race), time (time taken for the lap), milliseconds (time in milliseconds)\n",
    "- pit_stops - A driver stops during the race in the pitlane to make minor changes to the car. This table gives information about pitstops made during a particular race. Columns: raceID, driverID, stop (pit stop number in the race by that driver), lap (lap in which stop was made), time (time of the day at which stop was made), duration (time taken during the stop), milliseconds (duration in milliseconds)\n",
    "- qualifying - This table contains information about qualification that happens before a race. Columns: qualifyID, raceID, driverID, constructorID, number (car number), q1 (lap time in qualification round 1 also referred to as Q1), q2 (lap time in q2), q3 (lap time in q3)\n",
    "- races - This table contains information about each race held each season. Columns: raceID, year (year in which the race took place), round (nth race of the year, n being a number), circuitID, name, date, time (time of race start), fp1_date (fp stands for free practice), fp1_time, fp2_date, fp2_time, quali_date, quali_time, sprint_date (date of sprint race), sprint_time\n",
    "- results - This table contains results of each race for each driver. Columns: resultID, raceID, driverID, constructorID, number (car number), grid (position at the start of the race), position (at the end of the race), points, laps (number of laps completed), time (time taken to finish the race. if this begins with + then the value is race leader's time + value given), milliseconds (total time taken in milliseconds), fastestLap (lap number of fastest lap), rank (rank of fastest lap), fastestLapTime, fastestLapSpeed (top speed of fastest lap), statusID (status of driver)\n",
    "- seasons - This table contains the year and a url link of the Wikipedia page corresponding to that season for more information\n",
    "- sprint_results - This table contains information about results of sprint races during the race week. Columns: resultID, raceID, driverID, constructorID, number (car number), grid (position at the start of the race), position (at the end of the race), points, laps (number of laps completed), time (time taken to finish the race. if this begins with + then the value is race leader's time + value given), milliseconds (total time taken in milliseconds), fastestLap (lap number of fastest lap), fastestLapTime, statusID (status of driver)\n",
    "- status - This table contains the mapping for a description for each statusID. It describes the status of a driver for a particular race. Columns: statusID, status\n",
    "\n",
    "Interconnections:\n",
    "Columns like driverID, constructorID, circuitID, raceID, and statusID are used to interconnect the tables.\n",
    "\n",
    "Instructions:\n",
    "- Pay attention to use date('now') function to get the current date when required\n",
    "- Ensure SQL queries are concise and efficient, select unique whenever required\n",
    "- Ensure you query for only existing columns\n",
    "- Properly handle joins between tables to ensure accurate data retrieval. Join on the required IDs whenever asking for a number of occurences of a particular event. \n",
    "- When using COUNT() with table joins, make sure to use COUNT(DISTINCT column_name)                                               \n",
    "- The driver that get position 1 in the race is the winner and so on.\n",
    "- If the year or date is involved while getting the response, join with the races table and use the year or date column. RESULTS TABLE DOESNT HAVE YEAR DETAILS\n",
    "- A driver/constructor wins the championship if they have the most points in the standings at the end of the year\n",
    "- Pole position refers to qualifying first, or starting the race first on the grid\n",
    "- If a driver has finished the race in the top 3 then they are on the podium\n",
    "- Did not Finish of DNF refers to position='\\\\N' in the results table. DO NOT USE THE WORD 'NULL' or NULL\n",
    "- Status types available - Finished, Disqualified, Accident, Collision, Engine, Gearbox, Transmission, Clutch, Hydraulics, Electrical, +1 Lap, +2 Laps, +3 Laps, +4 Laps, +5 Laps, +6 Laps, +7 Laps, +8 Laps, +9 Laps, Spun off, Radiator, Suspension, Brakes, Differential, Overheating, Mechanical, Tyre, Driver Seat, Puncture, Driveshaft, Retired, Fuel pressure, Front wing, Water pressure, Refuelling, Wheel, Throttle, Steering, Technical, Electronics, Broken wing, Heat shield fire, Exhaust, Oil leak, +11 Laps, Wheel rim, Water leak, Fuel pump, Track rod, +17 Laps, Oil pressure, +42 Laps, +13 Laps, Withdrew, +12 Laps, Engine fire, Engine misfire, +26 Laps, Tyre puncture, Out of fuel, Wheel nut, Not classified, Pneumatics, Handling, Rear wing, Fire, Wheel bearing, Physical, Fuel system, Oil line, Fuel rig, Launch control, Injured, Fuel, Power loss, Vibrations, 107% Rule, Safety, Drivetrain, Ignition, Did not qualify, Injury, Chassis, Battery, Stalled, Halfshaft, Crankshaft, +10 Laps, Safety concerns, Not restarted, Alternator, Underweight, Safety belt, Oil pump, Fuel leak, Excluded, Did not prequalify, Injection, Distributor, Driver unwell, Turbo, CV joint, Water pump, Fatal accident, Spark plugs, Fuel pipe, Eye injury, Oil pipe, Axle, Water pipe, +14 Laps, +15 Laps, +25 Laps, +18 Laps, +22 Laps, +16 Laps, +24 Laps, +29 Laps, +23 Laps, +21 Laps, Magneto, +44 Laps, +30 Laps, +19 Laps, +46 Laps, Supercharger, +20 Laps, Collision damage, Power Unit, ERS, +49 Laps, +38 Laps, Brake duct, Seat, Damage, Debris, Illness, Undertray, Cooling system\n",
    "- For a crash include all these status types - Accident, Collision, Spun off, Collision damage, Fatal accident\n",
    "- For points scored in a season, use the points column for the last race of the season in the driver's/constructors standings\n",
    "\n",
    "Below are some example questions and corresponding SQL queries for better understanding. Take this as reference and use similar queries:\n",
    "\n",
    "Human: How many times has Lewis won the championship?\n",
    "AI: SELECT COUNT(*) AS championship_wins FROM (SELECT ds.driverID, r.year FROM driver_standings ds JOIN races r ON ds.raceID = r.raceID JOIN drivers d ON ds.driverID = d.driverID WHERE d.forename = 'Lewis' AND d.surname = 'Hamilton' AND ds.position = 1 AND r.round = (SELECT MAX(ra.round) FROM races ra WHERE ra.year = r.year) GROUP BY r.year) AS final_standings;\n",
    "Human: What was the position of Mercedes in the 2020 British Grand Prix?\n",
    "AI: SELECT cs.position FROM constructor_standings cs JOIN constructors c ON cs.constructorID = c.constructorID JOIN races r ON cs.raceID = r.raceID WHERE r.year = 2020 AND r.name = 'British Grand Prix' AND c.name = 'Mercedes';\n",
    "Human: Which constructor had the most wins in the 2020 season?\n",
    "AI: SELECT c.name, COUNT(DISTINCT res.resultID) AS wins FROM results res JOIN constructors c ON res.constructorID = c.constructorID JOIN races r ON res.raceID = r.raceID WHERE r.year = 2020 AND res.positionOrder = 1 GROUP BY c.name ORDER BY wins DESC LIMIT 1;\n",
    "Human: Which teams did Lewis Hamilton race for?\n",
    "AI: SELECT DISTINCT c.name FROM results r JOIN drivers d ON r.driverID = d.driverID JOIN constructors c ON r.constructorID = c.constructorID WHERE d.forename = 'Lewis' AND d.surname = 'Hamilton';\n",
    "Human: Which drivers have got pole positions for Ferrari?\n",
    "AI: SELECT DISTINCT d.forename, d.surname FROM qualifying q JOIN constructors c ON q.constructorID = c.constructorID JOIN drivers d ON q.driverID = d.driverID WHERE c.name = 'Ferrari' AND q.position = 1;\n",
    "Human: Which drivers qualified on pole and finished first in the race in 2008?\n",
    "AI: SELECT DISTINCT d.forename, d.surname FROM qualifying q JOIN results r ON q.raceID = r.raceID AND q.driverID = r.driverID JOIN drivers d ON q.driverID = d.driverID WHERE r.grid = 1 AND r.position = 1 AND q.raceID IN ( SELECT raceID FROM races WHERE year = 2008);\n",
    "Human: Which driver took the maximum number of races to get their first win?\n",
    "AI: WITH FirstWin AS (SELECT driverID, MIN(ra.date) AS first_win_date FROM results r JOIN races ra ON r.raceID = ra.raceID WHERE r.position = 1 GROUP BY driverID), RacesBeforeFirstWin AS (SELECT d.driverID, d.forename, d.surname, COUNT(DISTINCT ra.raceID) AS races_before_win FROM results r JOIN drivers d ON r.driverID = d.driverID JOIN races ra ON r.raceID = ra.raceID JOIN FirstWin fw ON r.driverID = fw.driverID WHERE ra.date < fw.first_win_date GROUP BY d.driverID, d.forename, d.surname) SELECT forename, surname, races_before_win FROM RacesBeforeFirstWin ORDER BY races_before_win DESC LIMIT 1;\n",
    "Human: How many pole positions does Lewis have?\n",
    "AI: SELECT COUNT(DISTINCT r.raceID) AS pole_positions FROM results res JOIN drivers d ON res.driverID = d.driverID JOIN races r ON res.raceID = r.raceID WHERE d.forename = 'Lewis' AND d.surname = 'Hamilton' AND res.grid = 1;\n",
    "Human: How many podiums has Michael Schumacher got?\n",
    "AI: SELECT COUNT(DISTINCT r.raceID) AS podiums FROM results r JOIN drivers d ON r.driverID = d.driverID WHERE d.forename = 'Michael' AND d.surname = 'Schumacher'AND r.position IN (1,2,3);                                                                                        \n",
    "Human: Which driver has won the most number of races in any single season?\n",
    "AI: SELECT d.forename, d.surname, r.year, COUNT(DISTINCT res.resultID) AS wins FROM results res JOIN drivers d ON res.driverID = d.driverID JOIN races r ON res.raceID = r.raceID WHERE res.positionOrder = 1 GROUP BY d.forename, d.surname, r.year ORDER BY wins DESC LIMIT 1;\n",
    "Human: In which circuits has Lewis Hamilton never won a race?  \n",
    "AI: SELECT DISTINCT(c.name) AS circuit_name FROM circuits c LEFT JOIN (SELECT DISTINCT r.circuitID FROM results res JOIN races r ON res.raceID = r.raceID JOIN drivers d ON res.driverID = d.driverID WHERE d.forename = 'Lewis' AND d.surname = 'Hamilton' AND res.positionOrder = 1) AS lh_wins ON c.circuitID = lh_wins.circuitID WHERE lh_wins.circuitID IS NULL;                                                                                            \n",
    "Human: Which driver has participated in the most races without having won a race?\n",
    "AI:SELECT d.forename, d.surname, COUNT(DISTINCT res.raceID) AS race_count FROM drivers d JOIN results res ON d.driverID = res.driverID LEFT JOIN ( SELECT DISTINCT driverID FROM results WHERE positionOrder = 1 ) AS winners ON d.driverID = winners.driverID WHERE winners.driverID IS NULL GROUP BY d.forename, d.surname ORDER BY race_count DESC LIMIT 1;\n",
    "Human: How many races did Max Verstappen not finish?                                           \n",
    "AI:SELECT COUNT(DISTINCT raceID) AS races_not_finished FROM results WHERE driverID = (SELECT driverID FROM drivers WHERE forename = 'Max' AND surname = 'Verstappen') AND position='\\\\N';\n",
    "Human:How many races did it take Lewis to get his first win?\n",
    "AI: WITH FirstWin AS (SELECT driverID, MIN(ra.date) AS first_win_date FROM results JOIN races AS ra ON results.raceID = ra.raceID WHERE results.position = 1 GROUP BY driverID), RacesBeforeFirstWin AS (SELECT d.driverID, d.forename, d.surname, COUNT(DISTINCT ra.raceID) AS races_before_win FROM results JOIN drivers AS d ON results.driverID = d.driverID JOIN races AS ra ON results.raceID = ra.raceID JOIN FirstWin AS fw ON results.driverID = fw.driverID WHERE ra.date < fw.first_win_date GROUP BY d.driverID, d.forename, d.surname) SELECT forename, surname, races_before_win FROM RacesBeforeFirstWin WHERE driverID = (SELECT driverID FROM drivers WHERE forename = 'Lewis' AND surname = 'Hamilton');\n",
    "Human: How many points did Lando Norris score in 2023?                       \n",
    "AI: SELECT DISTINCT(ds.points) AS total_points FROM driver_standings ds JOIN drivers d ON ds.driverID = d.driverID JOIN races r ON ds.raceID = r.raceID WHERE d.forename = 'Lando' AND d.surname = 'Norris' AND r.year = 2023 AND r.date = (SELECT MAX(date) FROM races WHERE year = 2023);\n",
    "\n",
    "                        \n",
    "Question: {question}\n",
    "SQL Query:\n",
    "\"\"\" )"
   ]
  },
  {
   "cell_type": "code",
   "execution_count": 7,
   "metadata": {},
   "outputs": [],
   "source": [
    "example_prompt = ChatPromptTemplate.from_messages(\n",
    "    [\n",
    "        (\"human\", \"{input}\"),\n",
    "        (\"ai\", \"{query}\"),\n",
    "    ]\n",
    ")\n",
    "few_shot_prompt = FewShotChatMessagePromptTemplate(\n",
    "    example_prompt=example_prompt,\n",
    "    examples=examples,\n",
    "    input_variables=['input']\n",
    "    \n",
    ")"
   ]
  },
  {
   "cell_type": "code",
   "execution_count": 125,
   "metadata": {},
   "outputs": [
    {
     "name": "stdout",
     "output_type": "stream",
     "text": [
      "Human: How many times has Lewis won the championship?\n",
      "AI: SELECT COUNT(*) AS championship_wins FROM (SELECT ds.driverID, r.year FROM driver_standings ds JOIN races r ON ds.raceID = r.raceID JOIN drivers d ON ds.driverID = d.driverID WHERE d.forename = 'Lewis' AND d.surname = 'Hamilton' AND ds.position = 1 AND r.round = (SELECT MAX(ra.round) FROM races ra WHERE ra.year = r.year) GROUP BY r.year) AS final_standings;\n",
      "Human: What was the position of Mercedes in the 2020 British Grand Prix?\n",
      "AI: SELECT cs.position FROM constructor_standings cs JOIN constructors c ON cs.constructorID = c.constructorID JOIN races r ON cs.raceID = r.raceID WHERE r.year = 2020 AND r.name = 'British Grand Prix' AND c.name = 'Mercedes';\n",
      "Human: Which constructor had the most wins in the 2020 season?\n",
      "AI: SELECT c.name, COUNT(*) as wins FROM constructor_standings cs JOIN constructors c ON cs.constructorID = c.constructorID JOIN races r ON cs.raceID = r.raceID WHERE r.year = 2020 AND cs.position = 1 GROUP BY c.name ORDER BY wins DESC LIMIT 1;\n",
      "Human: Which teams did Lewis Hamilton race for?\n",
      "AI: SELECT DISTINCT c.name FROM results r JOIN drivers d ON r.driverID = d.driverID JOIN constructors c ON r.constructorID = c.constructorID WHERE d.forename = 'Lewis' AND d.surname = 'Hamilton';\n",
      "Human: Which drivers have got pole positions for Ferrari?\n",
      "AI: SELECT DISTINCT d.forename, d.surname FROM qualifying q JOIN constructors c ON q.constructorID = c.constructorID JOIN drivers d ON q.driverID = d.driverID WHERE c.name = 'Ferrari' AND q.position = 1;\n",
      "Human: Which drivers qualified on pole and finished first in the race in 2008?\n",
      "AI: SELECT DISTINCT d.forename, d.surname FROM qualifying q JOIN results r ON q.raceID = r.raceID AND q.driverID = r.driverID JOIN drivers d ON q.driverID = d.driverID WHERE q.position = 1 AND r.positionOrder = 1 AND q.raceID IN ( SELECT raceID FROM races WHERE year = 2008);\n",
      "Human: Which driver took the maximum number of races to get their first win?\n",
      "AI: WITH FirstWin AS (SELECT driverID, MIN(raceID) AS first_win_raceID FROM results WHERE positionOrder = 1 GROUP BY driverID), RacesBeforeFirstWin AS ( SELECT d.driverID, d.forename, d.surname, COUNT(DISTINCT r.raceID) - 1 AS races_before_win FROM results r JOIN drivers d ON r.driverID = d.driverID JOIN FirstWin fw ON r.driverID = fw.driverID AND r.raceID < fw.first_win_raceID GROUP BY d.driverID, d.forename, d.surname) SELECT forename, surname, races_before_win FROM RacesBeforeFirstWin ORDER BY races_before_win DESC LIMIT 1;\n"
     ]
    }
   ],
   "source": [
    "print(few_shot_prompt.format(input=\"xyz\"))"
   ]
  },
  {
   "cell_type": "code",
   "execution_count": 46,
   "metadata": {},
   "outputs": [],
   "source": [
    "generate_query = final_query_prompt | llm | StrOutputParser()\n",
    "execute_query = QuerySQLDataBaseTool(db=db)\n",
    "\n",
    "answer_prompt = PromptTemplate.from_template(\n",
    "    \"\"\"Given the following user question, corresponding SQL query, and SQL result, answer the user question.\n",
    "If error, please respond appropriately.\n",
    "Question: {question}\n",
    "SQL Query: {query}\n",
    "SQL Result: {result}\n",
    "Answer: \"\"\"\n",
    ")\n",
    "\n",
    "rephrase_answer = answer_prompt | llm | StrOutputParser()\n",
    "\n",
    "chain = (\n",
    "    RunnablePassthrough.assign(query=generate_query).assign(\n",
    "        result=lambda d: execute_query(d[\"query\"].strip(\"```sql\\n\"))\n",
    "    )\n",
    "    | rephrase_answer\n",
    ")"
   ]
  },
  {
   "cell_type": "code",
   "execution_count": 48,
   "metadata": {},
   "outputs": [
    {
     "data": {
      "text/plain": [
       "\"Max Verstappen's first race was in 2015.\""
      ]
     },
     "execution_count": 48,
     "metadata": {},
     "output_type": "execute_result"
    }
   ],
   "source": [
    "chain.invoke({'question':'Which year was Max verstappens first race'})"
   ]
  },
  {
   "cell_type": "code",
   "execution_count": 49,
   "metadata": {},
   "outputs": [
    {
     "data": {
      "text/plain": [
       "'Michael Schumacher is the driver who finished first for the most races between 2000 and 2012, with 56 wins.'"
      ]
     },
     "execution_count": 49,
     "metadata": {},
     "output_type": "execute_result"
    }
   ],
   "source": [
    "chain.invoke({'question':'Who is the driver that finished first for most races between 2000 and 2012?'})"
   ]
  },
  {
   "cell_type": "code",
   "execution_count": 57,
   "metadata": {},
   "outputs": [
    {
     "data": {
      "text/plain": [
       "'- Michael Schumacher won 56 races\\n- Fernando Alonso won 30 races\\n- Sebastian Vettel won 26 races\\n- Lewis Hamilton won 21 races\\n- Kimi Räikkönen won 19 races\\n- Jenson Button won 15 races\\n- Rubens Barrichello won 11 races\\n- Felipe Massa won 11 races\\n- Mark Webber won 9 races\\n- Juan Pablo Montoya won 7 races\\n- David Coulthard won 7 races\\n- Ralf Schumacher won 6 races\\n- Mika Häkkinen won 6 races\\n- Giancarlo Fisichella won 3 races\\n- Robert Kubica won 1 race\\n- Pastor Maldonado won 1 race\\n- Nico Rosberg won 1 race\\n- Jarno Trulli won 1 race\\n- Heikki Kovalainen won 1 race'"
      ]
     },
     "execution_count": 57,
     "metadata": {},
     "output_type": "execute_result"
    }
   ],
   "source": [
    "chain.invoke({'question':'Which all drivers won races between 2000 and 2012 and how many did they win each? Give the answer in bullets'})"
   ]
  },
  {
   "cell_type": "code",
   "execution_count": 58,
   "metadata": {},
   "outputs": [
    {
     "data": {
      "text/plain": [
       "'Fernando Alonso, Kimi Räikkönen, Felipe Massa, Sebastian Vettel, Rubens Barrichello, Michael Schumacher, Jean Alesi, Eddie Irvine, Gerhard Berger, Nigel Mansell, Michele Alboreto, Alain Prost, René Arnoux, Patrick Tambay, Niki Lauda, Carlos Reutemann, Didier Pironi, Gilles Villeneuve, Mario Andretti, Jody Scheckter, Clay Regazzoni, Jacky Ickx, John Surtees, Ludovico Scarfiotti, Lorenzo Bandini, Giancarlo Baghetti, Phil Hill, Maurice Trintignant, Wolfgang von Trips, Tony Brooks, José Froilán González, Luigi Musso, Mike Hawthorn, Juan Fangio, Peter Collins, Piero Taruffi, Nino Farina, Alberto Ascari, Carlos Sainz and Charles Leclerc are the drivers who won with a Ferrari.'"
      ]
     },
     "execution_count": 58,
     "metadata": {},
     "output_type": "execute_result"
    }
   ],
   "source": [
    "chain.invoke({'question':'Who are all the drivers who won with a Ferrari?'})"
   ]
  },
  {
   "cell_type": "code",
   "execution_count": 59,
   "metadata": {},
   "outputs": [
    {
     "data": {
      "text/plain": [
       "'Carlos Sainz has won the following races:\\n- British Grand Prix\\n- Singapore Grand Prix\\n- Australian Grand Prix'"
      ]
     },
     "execution_count": 59,
     "metadata": {},
     "output_type": "execute_result"
    }
   ],
   "source": [
    "chain.invoke({'question':'Which races has Carlos Saniz won?'})"
   ]
  },
  {
   "cell_type": "code",
   "execution_count": 60,
   "metadata": {},
   "outputs": [
    {
     "data": {
      "text/plain": [
       "'Lando Norris raced for McLaren.'"
      ]
     },
     "execution_count": 60,
     "metadata": {},
     "output_type": "execute_result"
    }
   ],
   "source": [
    "chain.invoke({'question':'Which team did Lando Norris race for?'})"
   ]
  }
 ],
 "metadata": {
  "kernelspec": {
   "display_name": "Python 3",
   "language": "python",
   "name": "python3"
  },
  "language_info": {
   "codemirror_mode": {
    "name": "ipython",
    "version": 3
   },
   "file_extension": ".py",
   "mimetype": "text/x-python",
   "name": "python",
   "nbconvert_exporter": "python",
   "pygments_lexer": "ipython3",
   "version": "3.9.6"
  }
 },
 "nbformat": 4,
 "nbformat_minor": 2
}
